{
  "nbformat": 4,
  "nbformat_minor": 0,
  "metadata": {
    "colab": {
      "name": "processamento2.ipynb",
      "provenance": [],
      "collapsed_sections": []
    },
    "kernelspec": {
      "name": "python3",
      "display_name": "Python 3"
    }
  },
  "cells": [
    {
      "cell_type": "markdown",
      "metadata": {
        "id": "aSg8jmelcH_2",
        "colab_type": "text"
      },
      "source": [
        "# Processamento\n",
        "\n",
        "Aprendizado de máquina é em sua essência processamento de dados. Algumas bibliotecas são extremamente úteis para resolver diversos desafios que nos deparamos ao resolver um problema de aprendizagem.\n",
        "\n",
        "Para resover questões relacionadas a otimização, álgebra linear, interpolação, processamento de sinais e imagens, solucionadores de EDO's e outras tarefas comuns em ciência e engenharia é importante conhecer a biblioteca [Scipy](processamento/scipy.ipynb).\n",
        "\n",
        "Para resolver problemas de regressão, classificação, clusterização, extração de features, normalização e outros, a biblioteca [Scikit Learn](processamento/scikitLearn.ipynb) será de grande ajuda.\n",
        "\n",
        "Para se aventurar nas profundezas de deep learning, a biblioteca [Keras](processamento/keras.ipynb) é uma ótima opção.\n",
        "\n",
        "## Pré-requisitos\n",
        "\n",
        "Assume-se Python 3.6 no sistema Unix, e a preparação é simples\n",
        "\n",
        "```bash\n",
        "sudo pip3 install matplotlib scikit-learn numpy pandas python-mnist tensorflow==2.2.0-rc2\n",
        "```\n",
        "\n",
        "Também é necessário ter os arquivos relativos à base [Titanic](https://www.kaggle.com/c/titanic) do Kaggle e à base [MNIST](http://yann.lecun.com/exdb/mnist/) na mesma pasta do notebook.\n",
        "\n",
        "\n"
      ]
    }
  ]
}