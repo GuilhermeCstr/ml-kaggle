{
  "nbformat": 4,
  "nbformat_minor": 0,
  "metadata": {
    "colab": {
      "name": "Keras.ipynb",
      "provenance": [],
      "collapsed_sections": []
    },
    "kernelspec": {
      "name": "python3",
      "display_name": "Python 3"
    }
  },
  "cells": [
    {
      "cell_type": "markdown",
      "metadata": {
        "id": "jbKsYtHl3fgS",
        "colab_type": "text"
      },
      "source": [
        "# Deep Learning com Keras\n",
        "\n",
        "![alt text](data:image/png;base64,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)\n",
        "\n",
        "\n"
      ]
    },
    {
      "cell_type": "markdown",
      "metadata": {
        "id": "frM6Ei1X3gtV",
        "colab_type": "text"
      },
      "source": [
        "[Keras](https://keras.io/) é uma poderosa biblioteca escrita em python que possibilita, de uma maneira simples, implementar aplicações de deep learning.\n",
        "\n",
        "É possível resolver problemas como classificação e regressão, mas também resolver problemas complexos como detecção de objetos em imagens, segmentação semântica e reconhecimento de voz."
      ]
    },
    {
      "cell_type": "markdown",
      "metadata": {
        "id": "6WA-1K7V-pYj",
        "colab_type": "text"
      },
      "source": [
        "## Por onde devo começar?\n",
        "\n",
        "Antes de qualquer coisa, é necessário entender o problema a ser resolvido. Isso é válido para qualquer aplicação de aprendizado de máquina.\n",
        "\n",
        "Em seguida, é importante fazer o pré-processamento dos seus dados, colocando no formato correto para utilização no seu modelo.\n",
        "\n",
        "Finalmente, cria-se um modelo e aplica o treinamento. \n",
        "\n",
        "Para criar o modelo, é interessante estudar [como funcionam as redes neurais](https://medium.com/neuronio-br/entendendo-redes-convolucionais-cnns-d10359f21184)."
      ]
    },
    {
      "cell_type": "markdown",
      "metadata": {
        "id": "hjnpCH4D3oxm",
        "colab_type": "text"
      },
      "source": [
        "## Passos para criar e usar uma rede neural convolucional no Keras\n",
        "\n",
        "1. Primeiramente, deve-se criar um modelo. Nessa etapa define-se como será a nede neural, quantas camadas ela deve possuir, qual a relação entre as camadas, como deve ser a camada de entrada e a camada de saída. Existem vários tipos de camadas e também vários parâmetros que devem ser especificados em cada uma.\n",
        "\n",
        "2. Compila-se o modelo.\n",
        "\n",
        "3. Com os dados de treinamento, treina-se o modelo usando o método 'fit'.\n",
        "\n",
        "4. Com o modelo treinado, para fazer predições de novos dados, usa-se o método 'predict'."
      ]
    },
    {
      "cell_type": "markdown",
      "metadata": {
        "id": "IBdZmJOA5ice",
        "colab_type": "text"
      },
      "source": [
        "## Resolvendo a base MNIST usando o Keras"
      ]
    },
    {
      "cell_type": "markdown",
      "metadata": {
        "id": "IVqrXm0H5nsG",
        "colab_type": "text"
      },
      "source": [
        "Para reproduzir o código de exemplo abaixo é necessária a instalação das seguintes bibliotecas:\n",
        "\n",
        "```\n",
        "pip install python-mnist\n",
        "pip install tensorflow==2.2.0-rc2\n",
        "pip install numpy\n",
        "```\n"
      ]
    },
    {
      "cell_type": "markdown",
      "metadata": {
        "id": "Em3oYxr18PPZ",
        "colab_type": "text"
      },
      "source": [
        "Para exemplificar uma aplicação simples de nede neural convolucional, vamos usar a base MNIST.\n",
        "Ela pode ser baixada [aqui](http://yann.lecun.com/exdb/mnist/) e possui 4 arquivos (train-images-idx3-ubyte, train-labels-idx1-ubyte, t10k-images-idx3-ubyte, t10k-labels-idx1-ubyte) que devem estar no mesmo diretório que esse código. \n",
        "\n",
        "Essa base é formada por imagens de dimensões 28x28 pixels, em que cada imagem é um número de 0 a 9. \n",
        "\n",
        "![alt text](https://i.stack.imgur.com/GKx1A.png)\n",
        "\n",
        "O objetivo dessa base é reconhecer o número que se encontra em cada imagem, logo, é um problema de classificação.\n"
      ]
    },
    {
      "cell_type": "code",
      "metadata": {
        "id": "ZOHe4JBP8axN",
        "colab_type": "code",
        "colab": {}
      },
      "source": [
        "# Carregando os dados de teste\n",
        "from mnist import MNIST\n",
        "\n",
        "mndata = MNIST('.') # Carrega os dados que estão no mesmo diretório\n",
        "\n",
        "training_images, training_labels = mndata.load_training()\n",
        "test_images, test_labels = mndata.load_testing()"
      ],
      "execution_count": 0,
      "outputs": []
    },
    {
      "cell_type": "code",
      "metadata": {
        "id": "OorMuO7U8MkU",
        "colab_type": "code",
        "colab": {}
      },
      "source": [
        "# Pré-processamento \n",
        "from tensorflow.keras.utils import to_categorical\n",
        "import numpy as np\n",
        "\n",
        "# As imagens serão colocadas em um vetor de matrizes tridimencionais (largura, altura, canais)\n",
        "# As labels serão transformadas em vetor de tamanho 10 em que a posição com o número 1 equivale a label da imagem.\n",
        "training_images = np.array(training_images).reshape(60000,28,28,1)\n",
        "training_labels = to_categorical(np.array(training_labels))\n",
        "test_images = np.array(test_images).reshape(10000,28,28,1)\n",
        "test_labels = to_categorical(np.array(test_labels))"
      ],
      "execution_count": 0,
      "outputs": []
    },
    {
      "cell_type": "markdown",
      "metadata": {
        "id": "Fzs5rRKhAPng",
        "colab_type": "text"
      },
      "source": [
        "\n",
        "\n",
        "Usando o keras é simples criar um [modelo](https://keras.io/models/about-keras-models/), adicionar e configurar as camadas desse modelo.\n",
        "\n",
        "Após instanciar o seu modelo, usando a função add é possível montar a sua rede com os tipos de camada já implementados pela biblioteca keras.\n",
        "\n",
        "Aqui criamos uma rede com duas camadas convolucionais, uma camada que achata a anterior em um grande vetor e uma última camada para adequar a saída ao vetor desejado."
      ]
    },
    {
      "cell_type": "code",
      "metadata": {
        "id": "K50wCpSWBaV-",
        "colab_type": "code",
        "outputId": "036ad97e-34b0-40c6-81c4-7fe1d4f13cba",
        "colab": {
          "base_uri": "https://localhost:8080/",
          "height": 289
        }
      },
      "source": [
        "# Criando um modelo\n",
        "from tensorflow.keras.models import Sequential\n",
        "from tensorflow.keras.layers import Dense, Flatten, Conv2D\n",
        "\n",
        "# Instacia um modelo sequencial\n",
        "model = Sequential()\n",
        "\n",
        "# Adiciona uma camada convolucional \n",
        "model.add(Conv2D(32, kernel_size=3, activation='relu', input_shape=(28,28,1)))\n",
        "# Adiciona outra camada convolucional\n",
        "model.add(Conv2D(16, kernel_size=3, activation='relu'))\n",
        "# Adiciona uma camada flatten\n",
        "model.add(Flatten())\n",
        "# Adiciona uma camada dense\n",
        "model.add(Dense(10, activation='softmax'))\n",
        "\n",
        "# Compila o modelo usando o otimizador 'adam'\n",
        "model.compile(optimizer='adam', loss='categorical_crossentropy', metrics=['accuracy'])\n",
        "\n",
        "# Resumo do modelo\n",
        "model.summary()"
      ],
      "execution_count": 0,
      "outputs": [
        {
          "output_type": "stream",
          "text": [
            "Model: \"sequential\"\n",
            "_________________________________________________________________\n",
            "Layer (type)                 Output Shape              Param #   \n",
            "=================================================================\n",
            "conv2d (Conv2D)              (None, 26, 26, 32)        320       \n",
            "_________________________________________________________________\n",
            "conv2d_1 (Conv2D)            (None, 24, 24, 16)        4624      \n",
            "_________________________________________________________________\n",
            "flatten (Flatten)            (None, 9216)              0         \n",
            "_________________________________________________________________\n",
            "dense (Dense)                (None, 10)                92170     \n",
            "=================================================================\n",
            "Total params: 97,114\n",
            "Trainable params: 97,114\n",
            "Non-trainable params: 0\n",
            "_________________________________________________________________\n"
          ],
          "name": "stdout"
        }
      ]
    },
    {
      "cell_type": "markdown",
      "metadata": {
        "id": "werHf6D1CbEk",
        "colab_type": "text"
      },
      "source": [
        "Para treinar o modelo, também passamos um conjunto de dados para validação. Para isso, dividiu-se os dados em 50000 amostras de treinamento e 10000 amostras de validação. A quantidade de épocas define quantas rodadas de treinamento o seu modelo deve realizar,"
      ]
    },
    {
      "cell_type": "code",
      "metadata": {
        "id": "7oG-T0OTCXQd",
        "colab_type": "code",
        "outputId": "8f458530-eb32-4b95-e494-8577141424ef",
        "colab": {
          "base_uri": "https://localhost:8080/",
          "height": 224
        }
      },
      "source": [
        "# Fazendo o treinamento\n",
        "validation_data = (training_images[50000:], training_labels[50000:])\n",
        "model.fit(training_images[:50000], training_labels[:50000], validation_data=validation_data, epochs=5)"
      ],
      "execution_count": 0,
      "outputs": [
        {
          "output_type": "stream",
          "text": [
            "Epoch 1/5\n",
            "1563/1563 [==============================] - 67s 43ms/step - loss: 0.2672 - accuracy: 0.9413 - val_loss: 0.0966 - val_accuracy: 0.9737\n",
            "Epoch 2/5\n",
            "1563/1563 [==============================] - 68s 43ms/step - loss: 0.0791 - accuracy: 0.9762 - val_loss: 0.1075 - val_accuracy: 0.9727\n",
            "Epoch 3/5\n",
            "1563/1563 [==============================] - 68s 44ms/step - loss: 0.0538 - accuracy: 0.9836 - val_loss: 0.1154 - val_accuracy: 0.9706\n",
            "Epoch 4/5\n",
            "1563/1563 [==============================] - 68s 43ms/step - loss: 0.0418 - accuracy: 0.9870 - val_loss: 0.1098 - val_accuracy: 0.9784\n",
            "Epoch 5/5\n",
            "1563/1563 [==============================] - 68s 44ms/step - loss: 0.0331 - accuracy: 0.9898 - val_loss: 0.1081 - val_accuracy: 0.9769\n"
          ],
          "name": "stdout"
        },
        {
          "output_type": "execute_result",
          "data": {
            "text/plain": [
              "<tensorflow.python.keras.callbacks.History at 0x7f2523c46240>"
            ]
          },
          "metadata": {
            "tags": []
          },
          "execution_count": 6
        }
      ]
    },
    {
      "cell_type": "code",
      "metadata": {
        "id": "49tHHU7qDGst",
        "colab_type": "code",
        "colab": {}
      },
      "source": [
        "# Fazendo predições\n",
        "prediction = model.predict(test_images)"
      ],
      "execution_count": 0,
      "outputs": []
    },
    {
      "cell_type": "code",
      "metadata": {
        "id": "X-3EtaXNDJz3",
        "colab_type": "code",
        "outputId": "8bbb3c4e-3b64-4e22-863c-1c223bbed7c3",
        "colab": {
          "base_uri": "https://localhost:8080/",
          "height": 34
        }
      },
      "source": [
        "# Avaliando o método\n",
        "from tensorflow import metrics\n",
        "hits = metrics.categorical_accuracy(test_labels, prediction)\n",
        "\n",
        "accuracy = sum(hits)/len(test_images)\n",
        "\n",
        "print(\"Acurácia: \"+str(np.array(accuracy)*100)+\"%\")"
      ],
      "execution_count": 0,
      "outputs": [
        {
          "output_type": "stream",
          "text": [
            "Acurácia: 97.17000126838684%\n"
          ],
          "name": "stdout"
        }
      ]
    },
    {
      "cell_type": "markdown",
      "metadata": {
        "id": "EvIfyXGvFjqx",
        "colab_type": "text"
      },
      "source": [
        "## Referências\n",
        "\n",
        "* [Base MNIST](http://yann.lecun.com/exdb/mnist/)\n",
        "* [Building a Convolutional Neural Network (CNN) in Keras](https://towardsdatascience.com/building-a-convolutional-neural-network-cnn-in-keras-329fbbadc5f5)\n",
        "* [Keras Documentation](https://keras.io/)"
      ]
    }
  ]
}