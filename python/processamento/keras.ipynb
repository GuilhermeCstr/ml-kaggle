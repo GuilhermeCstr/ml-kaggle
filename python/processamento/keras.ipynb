{
  "nbformat": 4,
  "nbformat_minor": 0,
  "metadata": {
    "colab": {
      "name": "Keras.ipynb",
      "provenance": [],
      "collapsed_sections": []
    },
    "kernelspec": {
      "name": "python3",
      "display_name": "Python 3"
    }
  },
  "cells": [
    {
      "cell_type": "markdown",
      "metadata": {
        "id": "jbKsYtHl3fgS",
        "colab_type": "text"
      },
      "source": [
        "# Deep Learning com Keras\n",
        "\n",
        "![alt text](https://encrypted-tbn0.gstatic.com/images?q=tbn%3AANd9GcRboBF8CBex8pj9r8GsXEFWyYyr_13MeXN5TyhAKzO8vAX5-N48&usqp=CAU)\n"
      ]
    },
    {
      "cell_type": "markdown",
      "metadata": {
        "id": "frM6Ei1X3gtV",
        "colab_type": "text"
      },
      "source": [
        "[Keras](https://keras.io/) é uma poderosa biblioteca escrita em python que possibilita, de uma maneira simples, implementar aplicações de deep learning.\n",
        "\n",
        "É possível resolver problemas como classificação e regressão, mas também resolver problemas complexos como detecção de objetos em imagens, segmentação semântica e reconhecimento de voz."
      ]
    },
    {
      "cell_type": "markdown",
      "metadata": {
        "id": "6WA-1K7V-pYj",
        "colab_type": "text"
      },
      "source": [
        "## Por onde devo começar?\n",
        "\n",
        "Antes de qualquer coisa, é necessário entender o problema a ser resolvido. Isso é válido para qualquer aplicação de aprendizado de máquina.\n",
        "\n",
        "Em seguida, é importante fazer o pré-processamento dos seus dados, colocando no formato correto para utilização no seu modelo.\n",
        "\n",
        "Finalmente, cria-se um modelo e aplica o treinamento. \n",
        "\n",
        "Para criar o modelo, é interessante estudar [como funcionam as redes neurais](https://medium.com/neuronio-br/entendendo-redes-convolucionais-cnns-d10359f21184)."
      ]
    },
    {
      "cell_type": "markdown",
      "metadata": {
        "id": "hjnpCH4D3oxm",
        "colab_type": "text"
      },
      "source": [
        "## Passos para criar e usar uma rede neural convolucional no Keras\n",
        "\n",
        "1. Primeiramente, deve-se criar um modelo. Nessa etapa define-se como será a nede neural, quantas camadas ela deve possuir, qual a relação entre as camadas, como deve ser a camada de entrada e a camada de saída. Existem vários tipos de camadas e também vários parâmetros que devem ser especificados em cada uma.\n",
        "\n",
        "2. Compila-se o modelo.\n",
        "\n",
        "3. Com os dados de treinamento, treina-se o modelo usando o método 'fit'.\n",
        "\n",
        "4. Com o modelo treinado, para fazer predições de novos dados, usa-se o método 'predict'."
      ]
    },
    {
      "cell_type": "markdown",
      "metadata": {
        "id": "IBdZmJOA5ice",
        "colab_type": "text"
      },
      "source": [
        "## Resolvendo a base MNIST usando o Keras"
      ]
    },
    {
      "cell_type": "markdown",
      "metadata": {
        "id": "IVqrXm0H5nsG",
        "colab_type": "text"
      },
      "source": [
        "Para reproduzir o código de exemplo abaixo é necessária a instalação das seguintes bibliotecas:\n",
        "\n",
        "```\n",
        "pip install python-mnist\n",
        "pip install tensorflow==2.2.0-rc2\n",
        "pip install numpy\n",
        "```\n"
      ]
    },
    {
      "cell_type": "markdown",
      "metadata": {
        "id": "Em3oYxr18PPZ",
        "colab_type": "text"
      },
      "source": [
        "Para exemplificar uma aplicação simples de nede neural convolucional, vamos usar a base MNIST.\n",
        "Ela pode ser baixada [aqui](http://yann.lecun.com/exdb/mnist/) e possui 4 arquivos (train-images-idx3-ubyte, train-labels-idx1-ubyte, t10k-images-idx3-ubyte, t10k-labels-idx1-ubyte) que devem estar no mesmo diretório que esse código. \n",
        "\n",
        "Essa base é formada por imagens de dimensões 28x28 pixels, em que cada imagem é um número de 0 a 9. \n",
        "\n",
        "![alt text](https://i.stack.imgur.com/GKx1A.png)\n",
        "\n",
        "O objetivo dessa base é reconhecer o número que se encontra em cada imagem, logo, é um problema de classificação.\n"
      ]
    },
    {
      "cell_type": "code",
      "metadata": {
        "id": "ZOHe4JBP8axN",
        "colab_type": "code",
        "colab": {}
      },
      "source": [
        "# Carregando os dados de teste\n",
        "from mnist import MNIST\n",
        "\n",
        "mndata = MNIST('.') # Carrega os dados que estão no mesmo diretório\n",
        "\n",
        "training_images, training_labels = mndata.load_training()\n",
        "test_images, test_labels = mndata.load_testing()"
      ],
      "execution_count": 0,
      "outputs": []
    },
    {
      "cell_type": "code",
      "metadata": {
        "id": "OorMuO7U8MkU",
        "colab_type": "code",
        "colab": {}
      },
      "source": [
        "# Pré-processamento \n",
        "from tensorflow.keras.utils import to_categorical\n",
        "import numpy as np\n",
        "\n",
        "# As imagens serão colocadas em um vetor de matrizes tridimencionais (largura, altura, canais)\n",
        "# As labels serão transformadas em vetor de tamanho 10 em que a posição com o número 1 equivale a label da imagem.\n",
        "training_images = np.array(training_images).reshape(60000,28,28,1)\n",
        "training_labels = to_categorical(np.array(training_labels))\n",
        "test_images = np.array(test_images).reshape(10000,28,28,1)\n",
        "test_labels = to_categorical(np.array(test_labels))"
      ],
      "execution_count": 0,
      "outputs": []
    },
    {
      "cell_type": "markdown",
      "metadata": {
        "id": "Fzs5rRKhAPng",
        "colab_type": "text"
      },
      "source": [
        "\n",
        "\n",
        "Usando o keras é simples criar um [modelo](https://keras.io/models/about-keras-models/), adicionar e configurar as camadas desse modelo.\n",
        "\n",
        "Após instanciar o seu modelo, usando a função add é possível montar a sua rede com os tipos de camada já implementados pela biblioteca keras.\n",
        "\n",
        "Aqui criamos uma rede com duas camadas convolucionais, uma camada que achata a anterior em um grande vetor e uma última camada para adequar a saída ao vetor desejado."
      ]
    },
    {
      "cell_type": "code",
      "metadata": {
        "id": "K50wCpSWBaV-",
        "colab_type": "code",
        "outputId": "036ad97e-34b0-40c6-81c4-7fe1d4f13cba",
        "colab": {
          "base_uri": "https://localhost:8080/",
          "height": 289
        }
      },
      "source": [
        "# Criando um modelo\n",
        "from tensorflow.keras.models import Sequential\n",
        "from tensorflow.keras.layers import Dense, Flatten, Conv2D\n",
        "\n",
        "# Instacia um modelo sequencial\n",
        "model = Sequential()\n",
        "\n",
        "# Adiciona uma camada convolucional \n",
        "model.add(Conv2D(32, kernel_size=3, activation='relu', input_shape=(28,28,1)))\n",
        "# Adiciona outra camada convolucional\n",
        "model.add(Conv2D(16, kernel_size=3, activation='relu'))\n",
        "# Adiciona uma camada flatten\n",
        "model.add(Flatten())\n",
        "# Adiciona uma camada dense\n",
        "model.add(Dense(10, activation='softmax'))\n",
        "\n",
        "# Compila o modelo usando o otimizador 'adam'\n",
        "model.compile(optimizer='adam', loss='categorical_crossentropy', metrics=['accuracy'])\n",
        "\n",
        "# Resumo do modelo\n",
        "model.summary()"
      ],
      "execution_count": 0,
      "outputs": [
        {
          "output_type": "stream",
          "text": [
            "Model: \"sequential\"\n",
            "_________________________________________________________________\n",
            "Layer (type)                 Output Shape              Param #   \n",
            "=================================================================\n",
            "conv2d (Conv2D)              (None, 26, 26, 32)        320       \n",
            "_________________________________________________________________\n",
            "conv2d_1 (Conv2D)            (None, 24, 24, 16)        4624      \n",
            "_________________________________________________________________\n",
            "flatten (Flatten)            (None, 9216)              0         \n",
            "_________________________________________________________________\n",
            "dense (Dense)                (None, 10)                92170     \n",
            "=================================================================\n",
            "Total params: 97,114\n",
            "Trainable params: 97,114\n",
            "Non-trainable params: 0\n",
            "_________________________________________________________________\n"
          ],
          "name": "stdout"
        }
      ]
    },
    {
      "cell_type": "markdown",
      "metadata": {
        "id": "werHf6D1CbEk",
        "colab_type": "text"
      },
      "source": [
        "Para treinar o modelo, também passamos um conjunto de dados para validação. Para isso, dividiu-se os dados em 50000 amostras de treinamento e 10000 amostras de validação. A quantidade de épocas define quantas rodadas de treinamento o seu modelo deve realizar,"
      ]
    },
    {
      "cell_type": "code",
      "metadata": {
        "id": "7oG-T0OTCXQd",
        "colab_type": "code",
        "outputId": "8f458530-eb32-4b95-e494-8577141424ef",
        "colab": {
          "base_uri": "https://localhost:8080/",
          "height": 224
        }
      },
      "source": [
        "# Fazendo o treinamento\n",
        "validation_data = (training_images[50000:], training_labels[50000:])\n",
        "model.fit(training_images[:50000], training_labels[:50000], validation_data=validation_data, epochs=5)"
      ],
      "execution_count": 0,
      "outputs": [
        {
          "output_type": "stream",
          "text": [
            "Epoch 1/5\n",
            "1563/1563 [==============================] - 67s 43ms/step - loss: 0.2672 - accuracy: 0.9413 - val_loss: 0.0966 - val_accuracy: 0.9737\n",
            "Epoch 2/5\n",
            "1563/1563 [==============================] - 68s 43ms/step - loss: 0.0791 - accuracy: 0.9762 - val_loss: 0.1075 - val_accuracy: 0.9727\n",
            "Epoch 3/5\n",
            "1563/1563 [==============================] - 68s 44ms/step - loss: 0.0538 - accuracy: 0.9836 - val_loss: 0.1154 - val_accuracy: 0.9706\n",
            "Epoch 4/5\n",
            "1563/1563 [==============================] - 68s 43ms/step - loss: 0.0418 - accuracy: 0.9870 - val_loss: 0.1098 - val_accuracy: 0.9784\n",
            "Epoch 5/5\n",
            "1563/1563 [==============================] - 68s 44ms/step - loss: 0.0331 - accuracy: 0.9898 - val_loss: 0.1081 - val_accuracy: 0.9769\n"
          ],
          "name": "stdout"
        },
        {
          "output_type": "execute_result",
          "data": {
            "text/plain": [
              "<tensorflow.python.keras.callbacks.History at 0x7f2523c46240>"
            ]
          },
          "metadata": {
            "tags": []
          },
          "execution_count": 6
        }
      ]
    },
    {
      "cell_type": "code",
      "metadata": {
        "id": "49tHHU7qDGst",
        "colab_type": "code",
        "colab": {}
      },
      "source": [
        "# Fazendo predições\n",
        "prediction = model.predict(test_images)"
      ],
      "execution_count": 0,
      "outputs": []
    },
    {
      "cell_type": "code",
      "metadata": {
        "id": "X-3EtaXNDJz3",
        "colab_type": "code",
        "outputId": "8bbb3c4e-3b64-4e22-863c-1c223bbed7c3",
        "colab": {
          "base_uri": "https://localhost:8080/",
          "height": 34
        }
      },
      "source": [
        "# Avaliando o método\n",
        "from tensorflow import metrics\n",
        "hits = metrics.categorical_accuracy(test_labels, prediction)\n",
        "\n",
        "accuracy = sum(hits)/len(test_images)\n",
        "\n",
        "print(\"Acurácia: \"+str(np.array(accuracy)*100)+\"%\")"
      ],
      "execution_count": 0,
      "outputs": [
        {
          "output_type": "stream",
          "text": [
            "Acurácia: 97.17000126838684%\n"
          ],
          "name": "stdout"
        }
      ]
    },
    {
      "cell_type": "markdown",
      "metadata": {
        "id": "EvIfyXGvFjqx",
        "colab_type": "text"
      },
      "source": [
        "## Referências\n",
        "\n",
        "* [Base MNIST](http://yann.lecun.com/exdb/mnist/)\n",
        "* [Building a Convolutional Neural Network (CNN) in Keras](https://towardsdatascience.com/building-a-convolutional-neural-network-cnn-in-keras-329fbbadc5f5)\n",
        "* [Keras Documentation](https://keras.io/)"
      ]
    }
  ]
}