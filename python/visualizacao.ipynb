{
 "cells": [
  {
   "cell_type": "markdown",
   "metadata": {},
   "source": [
    "# Visualização de Dados\n",
    "\n",
    "Além de ser uma linguagem de programação muito versátil e poderosa, Python ainda apresenta diversas bibliotecas para visualização de conjuntos de dados, uma etapa de extrema importância para o Aprendizado de Máquina. Dentre as principais, estão: \n",
    "- [Matplotlib](https://matplotlib.org/)\n",
    "- [Seaborn](https://seaborn.pydata.org/)\n",
    "\n",
    "Para utilização dessas ferramentas, assume-se Python 3 no sistema Unix, e a preparação é simples:\n",
    "\n",
    "```bash\n",
    "sudo pip3 install matplotlib seaborn\n",
    "```\n",
    "\n",
    "## Referências gerais\n",
    "\n",
    "* Uma [coleção](./visualizacao/casos.ipynb) de situações comuns e técnicas para visualização de dados e interpretação de resultados.\n",
    "\n",
    "## Referências para a matplotlib\n",
    "\n",
    "* A própria (e extensa) [documentação](https://matplotlib.org/contents.html);\n",
    "* Um [resumo](./visualizacao/matplotlib.ipynb) das funções mais usadas.\n",
    "\n",
    "## Referências para a seaborn\n",
    "\n",
    "* A [referência](https://seaborn.pydata.org/api.html) da API, disponível no próprio site;\n",
    "* Um [resumo](./visualizacao/seaborn.ipynb) das funções mais usadas e outras referências."
   ]
  }
 ],
 "metadata": {
  "kernelspec": {
   "display_name": "Python 3",
   "language": "python",
   "name": "python3"
  },
  "language_info": {
   "codemirror_mode": {
    "name": "ipython",
    "version": 3
   },
   "file_extension": ".py",
   "mimetype": "text/x-python",
   "name": "python",
   "nbconvert_exporter": "python",
   "pygments_lexer": "ipython3",
   "version": "3.8.2"
  }
 },
 "nbformat": 4,
 "nbformat_minor": 2
}