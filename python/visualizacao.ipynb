{
 "cells": [
  {
   "cell_type": "markdown",
   "metadata": {},
   "source": [
    "# Visualização de Dados\n",
    "\n",
    "A visualização dos dados é a última etapa do ciclo de passos essenciais em Aprendizado de Máquina. \n",
    "É um ciclo porque são passos que se repetem entre si, uma vez que os dados não serão visualizados apenas no final, quando o problema for resolvido, mas, sim, durante todo o processo.\n",
    "\n",
    "Isso acontece porque computadores são excelentes em fazer cálculos com formas matemáticas e ciclos lógicos bem definidos. Entretanto, quando se trata de analisar um conjunto de dados onde podem haver dados mal calibrados, com ruído ou adquiridos sem a acurácia necessária, a etapa de visualização pode ser prejudicada. Desse modo, é preciso ser extremamente cuidadoso ao se escolher os gráficos a serem utilizados a fim de evitar interpretações equivocadas ou ainda ocultação de informação dada a forma escolhida para representação visual dos dados.\n",
    "\n",
    "\n",
    "Nesse contexto, além de ser uma linguagem de programação muito versátil e poderosa, Python apresenta diversas bibliotecas para esse processo de visualização dos conjuntos de dados. Dentre as principais estão: \n",
    "- [Matplotlib](https://matplotlib.org/)\n",
    "- [Seaborn](https://seaborn.pydata.org/)"
   ]
  },
  {
   "cell_type": "markdown",
   "metadata": {},
   "source": [
    "## Pré-requisitos \n",
    "\n",
    "Para utilização dessas ferramentas, assume-se Python 3 no sistema Unix, e a preparação é simples:\n",
    "\n",
    "```bash\n",
    "sudo pip3 install matplotlib seaborn\n",
    "```\n"
   ]
  },
  {
   "cell_type": "markdown",
   "metadata": {},
   "source": [
    "## Sugestão de estudo\n",
    "\n",
    "Para estudar sobre a parte de visualização de dados, recomenda-se já ter \n",
    "alguma noção de [programação em python][programacao].\n",
    "\n",
    "Em seguida, é sugerido entender sobre o básico de matplotlib\n",
    "por meio [deste notebook][matplotlib] e, em seguida, avançar na parte de [gráficos feitos no Seaborn][seaborn].\n",
    "\n",
    "Finalmente, estão dispostas abaixo mais referências de estudo e documentações. \n",
    "Encorajamos os estudantes a submeterem suas próprias contribuições por meio de forks e pull-requests.\n",
    "\n",
    "[programacao]: ./programacao.ipynb\n",
    "[seaborn]: ./visualizacao/seaborn.ipynb\n",
    "[matplotlib]: ./visualizacao/matplotlib.ipynb\n"
   ]
  },
  {
   "cell_type": "markdown",
   "metadata": {},
   "source": [
    "## Referências\n",
    "\n",
    "### Referências gerais\n",
    "\n",
    "* Uma [coleção](./visualizacao/casos.ipynb) de situações comuns e técnicas para visualização de dados e interpretação de resultados.\n",
    "\n",
    "### Referências para a matplotlib\n",
    "\n",
    "**Notebook(s)**\n",
    "\n",
    "* Um [resumo][matplot-note] das funções mais usadas;\n",
    "* Algumas [ferramentas][matplot-misc] interessantes para desenhar em cima dos gráficos (annotations);\n",
    "* [Exemplos de gráficos 3D][matplot-3d].\n",
    "\n",
    "**Site(s)**\n",
    "\n",
    "* A própria (e extensa) [documentação][matplot-doc].\n",
    "\n",
    "### Referências para a seaborn\n",
    "\n",
    "**Notebook(s)**\n",
    "> Um [resumo][seaborn-note] das funções mais usadas e outras referências.\n",
    "\n",
    "**Site(s)**\n",
    "\n",
    "* A [referência][seaborn-doc] da API, disponível no próprio site;\n",
    "\n",
    "[matplot-doc]:  https://matplotlib.org/contents.html\n",
    "[matplot-note]: visualizacao/matplotlib.ipynb\n",
    "[matplot-3d]:   visualizacao/tridimensionais.ipynb\n",
    "[matplot-misc]: visualizacao/miscelanea.ipynb\n",
    "[seaborn-doc]:  https://seaborn.pydata.org/api.html\n",
    "[seaborn-note]: visualizacao/seaborn.ipynb"
   ]
  }
 ],
 "metadata": {
  "kernelspec": {
   "display_name": "Python 3",
   "language": "python",
   "name": "python3"
  },
  "language_info": {
   "codemirror_mode": {
    "name": "ipython",
    "version": 3
   },
   "file_extension": ".py",
   "mimetype": "text/x-python",
   "name": "python",
   "nbconvert_exporter": "python",
   "pygments_lexer": "ipython3",
   "version": "3.8.1"
  }
 },
 "nbformat": 4,
 "nbformat_minor": 2
}
